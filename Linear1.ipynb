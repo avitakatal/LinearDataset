{
  "nbformat": 4,
  "nbformat_minor": 0,
  "metadata": {
    "colab": {
      "provenance": []
    },
    "kernelspec": {
      "name": "python3",
      "display_name": "Python 3"
    },
    "language_info": {
      "name": "python"
    }
  },
  "cells": [
    {
      "cell_type": "code",
      "execution_count": null,
      "metadata": {
        "id": "cztn1hnvEBC7"
      },
      "outputs": [],
      "source": [
        "import numpy as np\n",
        "import pandas as pd\n",
        "import matplotlib.pyplot as plt"
      ]
    },
    {
      "cell_type": "code",
      "source": [
        "from sklearn import metrics\n",
        "from sklearn.metrics import accuracy_score\n",
        "import pandas as pd"
      ],
      "metadata": {
        "id": "sclSy9yYED1V"
      },
      "execution_count": null,
      "outputs": []
    },
    {
      "cell_type": "code",
      "source": [
        "input_data_combined_KMEANS = pd.read_csv('New_Dataset_ColsAdded.csv')\n",
        "input_data_all_KMEANS = pd.read_csv('K_Clusters.csv')\n",
        "input_data_combined_KMEANS = input_data_combined_KMEANS[[\"CPU usage [%]\",\"CPU cores\",\"CPU capacity provisioned [MHZ]\",\"Memory capacity provisioned [KB]\",  \"CPU usage [MHZ]\", \"Memory usage [KB]\", \"Disk_usage\", \"Network_usage\"]]\n",
        "from sklearn.model_selection import train_test_split"
      ],
      "metadata": {
        "id": "tfvD9kn3EF6s"
      },
      "execution_count": null,
      "outputs": []
    },
    {
      "cell_type": "code",
      "source": [
        "x_train, x_test, y_train, y_test = train_test_split(X, y, train_size=0.7, test_size=0.3, random_state=123)"
      ],
      "metadata": {
        "id": "GXpJ-BVzEHjf"
      },
      "execution_count": null,
      "outputs": []
    },
    {
      "cell_type": "code",
      "source": [
        "plt.scatter(x_train[:, 0], x_train)\n",
        "plt.show()"
      ],
      "metadata": {
        "id": "pCW9FaYOELP-"
      },
      "execution_count": null,
      "outputs": []
    },
    {
      "cell_type": "code",
      "source": [
        "plt.scatter(x_test[:, 1], y_test)\n",
        "plt.show()"
      ],
      "metadata": {
        "id": "cb9HlVGGENFj"
      },
      "execution_count": null,
      "outputs": []
    },
    {
      "cell_type": "code",
      "source": [
        "from sklearn.linear_model import LinearRegression\n",
        "regressor = LinearRegression().fit(x_train, y_train)"
      ],
      "metadata": {
        "id": "ufFEkm70EOsb"
      },
      "execution_count": null,
      "outputs": []
    },
    {
      "cell_type": "code",
      "source": [
        "plt.scatter(x_test[:, 1], regressor)\n",
        "plt.show()"
      ],
      "metadata": {
        "id": "DxxzpNjpEQp7"
      },
      "execution_count": null,
      "outputs": []
    }
  ]
}