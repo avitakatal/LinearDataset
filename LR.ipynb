# General imports
import numpy as np
import pandas as pd
import matplotlib.pyplot as plt

# Generating data
from sklearn import metrics
from sklearn.metrics import accuracy_score
import pandas as pd

from sklearn.model_selection import train_test_split

x_train, x_test, y_train, y_test = train_test_split(X, y, train_size=0.7, test_size=0.3, random_state=123)



plt.scatter(x_train[:, 0], x_train)
plt.show()
plt.scatter(x_test[:, 1], y_test)
plt.show()
# Applying linear reg
from sklearn.linear_model import LinearRegression
regressor = LinearRegression().fit(x_train, y_train)
